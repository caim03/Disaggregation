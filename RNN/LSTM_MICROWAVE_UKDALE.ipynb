{
 "cells": [
  {
   "cell_type": "code",
   "execution_count": 1,
   "metadata": {},
   "outputs": [
    {
     "name": "stdout",
     "output_type": "stream",
     "text": [
      "------ IMPORT LIBRARY ------\n"
     ]
    },
    {
     "name": "stderr",
     "output_type": "stream",
     "text": [
      "Using TensorFlow backend.\n",
      "/home/caim03/anaconda2/envs/nilmtk-env/lib/python3.6/site-packages/tensorflow/python/framework/ops.py:923: DeprecationWarning: builtin type EagerTensor has no __module__ attribute\n",
      "  EagerTensor = c_api.TFE_Py_InitEagerTensor(_EagerTensorBase)\n",
      "/home/caim03/anaconda2/envs/nilmtk-env/lib/python3.6/site-packages/tensorflow/python/util/tf_inspect.py:75: DeprecationWarning: inspect.getargspec() is deprecated, use inspect.signature() or inspect.getfullargspec()\n",
      "  return _inspect.getargspec(target)\n",
      "/home/caim03/anaconda2/envs/nilmtk-env/lib/python3.6/site-packages/tensorflow/python/keras/backend.py:4785: ResourceWarning: unclosed file <_io.TextIOWrapper name='/home/caim03/.keras/keras.json' mode='r' encoding='UTF-8'>\n",
      "  _config = json.load(open(_config_path))\n"
     ]
    }
   ],
   "source": [
    "print(\"------ IMPORT LIBRARY ------\")\n",
    "\n",
    "import warnings; warnings.filterwarnings('ignore')\n",
    "from nilmtk import DataSet\n",
    "from rnndisaggregator import RNNDisaggregator\n",
    "from nilmtk.datastore import HDFDataStore\n",
    "import matplotlib.pyplot as plt\n",
    "import metrics\n",
    "\n",
    "# skip if you already have .h5 dataset\n",
    "# from nilmtk.dataset_converters import convert_ukdale\n",
    "# convert_ukdale('./data/REDD/low_freq', './data/REDD/redd.h5') \n"
   ]
  },
  {
   "cell_type": "code",
   "execution_count": 2,
   "metadata": {},
   "outputs": [
    {
     "name": "stdout",
     "output_type": "stream",
     "text": [
      "------ SET GLOBAL VARIABLES ------\n"
     ]
    }
   ],
   "source": [
    "print(\"------ SET GLOBAL VARIABLES ------\")\n",
    "\n",
    "DATASET = \"../data/UKDALE/ukdale.h5\" # path of ukdale data\n",
    "MODEL = \"../data/UKDALE/microwave-model-ukdale.h5\" # path of model\n",
    "DISAG_FILE = \"../data/UKDALE/microwave-disag-out.h5\" # path of disaggregation output\n",
    "APPLIANCE = 'microwave' # the network will be trained on this appliance\n",
    "SAMPLE_PERIOD = 6 # sample period (6 seconds in ukdale dataset)\n",
    "\n",
    "WINDOWS = {\n",
    "    'train': {\n",
    "        1: (\"2013-04-12\", \"2015-07-01\"),\n",
    "        2: (\"2013-05-22\", \"2013-10-03 06:16:00\"),\n",
    "    },\n",
    "    'test': {\n",
    "        5: (\"2014-06-29\", \"2014-10-21\")\n",
    "    }\n",
    "}\n",
    "\n",
    "# True if the model must be trained\n",
    "TRAINING = True"
   ]
  },
  {
   "cell_type": "code",
   "execution_count": 3,
   "metadata": {
    "scrolled": false
   },
   "outputs": [
    {
     "name": "stdout",
     "output_type": "stream",
     "text": [
      "------ PREPARING DATA ------\n"
     ]
    }
   ],
   "source": [
    "print(\"------ PREPARING DATA ------\")\n",
    "\n",
    "train_mainlist = []\n",
    "train_meterlist = []\n",
    "\n",
    "# for each building\n",
    "for key in WINDOWS['train'].keys():\n",
    "    train = DataSet(DATASET)\n",
    "    train.set_window(start=WINDOWS['train'][key][0], end=WINDOWS['train'][key][1])\n",
    "    train_elec = train.buildings[key].elec\n",
    "    \n",
    "    train_mainlist.append(train_elec.mains())\n",
    "    train_meterlist.append(train_elec.submeters()[APPLIANCE])"
   ]
  },
  {
   "cell_type": "code",
   "execution_count": 4,
   "metadata": {},
   "outputs": [
    {
     "name": "stdout",
     "output_type": "stream",
     "text": [
      "------ START TRAINING ------\n"
     ]
    },
    {
     "name": "stderr",
     "output_type": "stream",
     "text": [
      "/home/caim03/anaconda2/envs/nilmtk-env/lib/python3.6/site-packages/nilmtk/utils.py:426: UserWarning: Found duplicate index. Keeping first value\n",
      "  warnings.warn(\"Found duplicate index. Keeping first value\")\n"
     ]
    },
    {
     "name": "stdout",
     "output_type": "stream",
     "text": [
      "0\n",
      "Batch 0 of [142492, 30207]\r"
     ]
    },
    {
     "name": "stderr",
     "output_type": "stream",
     "text": [
      "/home/caim03/anaconda2/envs/nilmtk-env/lib/python3.6/site-packages/numpy/core/fromnumeric.py:52: FutureWarning: reshape is deprecated and will raise in a subsequent release. Please use .values.reshape(...) instead\n",
      "  return getattr(obj, method)(*args, **kwds)\n"
     ]
    },
    {
     "name": "stdout",
     "output_type": "stream",
     "text": [
      "Batch 30206 of [142492, 30207]\n",
      "\n",
      "1\n",
      "Batch 30206 of [142492, 30207]\n",
      "\n",
      "2\n",
      "Batch 30206 of [142492, 30207]\n",
      "\n",
      "3\n",
      "Batch 30206 of [142492, 30207]\n",
      "\n",
      "4\n",
      "Batch 30206 of [142492, 30207]\n",
      "\n"
     ]
    }
   ],
   "source": [
    "rnn = RNNDisaggregator()\n",
    "\n",
    "if TRAINING:\n",
    "    print(\"------ START TRAINING ------\")\n",
    "    rnn.train_across_buildings(train_mainlist, train_meterlist, epochs=5, sample_period=SAMPLE_PERIOD)\n",
    "    rnn.export_model(MODEL)\n",
    "else:\n",
    "    print(\"------ IMPORT MODEL ------\")\n",
    "    rnn.import_model(MODEL)"
   ]
  },
  {
   "cell_type": "code",
   "execution_count": 5,
   "metadata": {},
   "outputs": [
    {
     "name": "stdout",
     "output_type": "stream",
     "text": [
      "------ PREPARING TEST DATA ------\n",
      "------ START DISAGGREGATION ------\n",
      "New sensible chunk: 8367\n",
      "New sensible chunk: 1968\n",
      "New sensible chunk: 14832\n",
      "New sensible chunk: 11385\n",
      "New sensible chunk: 43784\n",
      "New sensible chunk: 13526\n",
      "New sensible chunk: 10790\n",
      "New sensible chunk: 17916\n",
      "New sensible chunk: 35283\n",
      "New sensible chunk: 202\n",
      "New sensible chunk: 22047\n",
      "New sensible chunk: 946\n",
      "New sensible chunk: 6596\n",
      "New sensible chunk: 34952\n",
      "New sensible chunk: 520\n",
      "New sensible chunk: 24226\n",
      "New sensible chunk: 115\n",
      "New sensible chunk: 4401\n",
      "New sensible chunk: 7380\n",
      "New sensible chunk: 165\n",
      "New sensible chunk: 691\n",
      "New sensible chunk: 6034\n",
      "New sensible chunk: 14776\n",
      "New sensible chunk: 394\n",
      "New sensible chunk: 2261\n",
      "New sensible chunk: 11207\n",
      "New sensible chunk: 163\n",
      "New sensible chunk: 47380\n",
      "New sensible chunk: 399\n",
      "New sensible chunk: 1198\n",
      "New sensible chunk: 184\n",
      "New sensible chunk: 25519\n",
      "New sensible chunk: 40976\n",
      "New sensible chunk: 426\n",
      "New sensible chunk: 2524\n",
      "New sensible chunk: 177\n",
      "New sensible chunk: 4586\n",
      "New sensible chunk: 216\n",
      "New sensible chunk: 3283\n",
      "New sensible chunk: 18082\n",
      "New sensible chunk: 1046\n",
      "New sensible chunk: 39484\n",
      "New sensible chunk: 52678\n",
      "New sensible chunk: 4915\n",
      "New sensible chunk: 7177\n",
      "New sensible chunk: 27976\n",
      "New sensible chunk: 123\n",
      "New sensible chunk: 316\n",
      "New sensible chunk: 7729\n",
      "New sensible chunk: 2356\n",
      "New sensible chunk: 11606\n",
      "New sensible chunk: 488\n",
      "New sensible chunk: 13788\n",
      "New sensible chunk: 10365\n",
      "New sensible chunk: 3951\n",
      "New sensible chunk: 548\n",
      "New sensible chunk: 7711\n",
      "New sensible chunk: 20395\n",
      "New sensible chunk: 15480\n",
      "New sensible chunk: 10193\n",
      "New sensible chunk: 66637\n",
      "New sensible chunk: 30597\n",
      "New sensible chunk: 52239\n",
      "New sensible chunk: 41372\n",
      "New sensible chunk: 5359\n",
      "New sensible chunk: 16883\n",
      "New sensible chunk: 6838\n",
      "New sensible chunk: 12305\n",
      "New sensible chunk: 41133\n",
      "New sensible chunk: 47823\n",
      "New sensible chunk: 1453\n",
      "New sensible chunk: 1945\n",
      "New sensible chunk: 19085\n",
      "New sensible chunk: 79690\n",
      "New sensible chunk: 18017\n",
      "New sensible chunk: 380\n",
      "New sensible chunk: 16819\n",
      "New sensible chunk: 6059\n",
      "New sensible chunk: 136\n",
      "New sensible chunk: 21682\n",
      "New sensible chunk: 1863\n",
      "New sensible chunk: 15327\n",
      "New sensible chunk: 9900\n",
      "New sensible chunk: 1417\n",
      "New sensible chunk: 610\n",
      "New sensible chunk: 45148\n",
      "New sensible chunk: 128\n",
      "New sensible chunk: 1808\n",
      "New sensible chunk: 33708\n",
      "New sensible chunk: 24441\n",
      "New sensible chunk: 5454\n",
      "New sensible chunk: 33610\n",
      "New sensible chunk: 27588\n",
      "New sensible chunk: 24066\n",
      "New sensible chunk: 16107\n",
      "New sensible chunk: 1154\n",
      "New sensible chunk: 16817\n",
      "New sensible chunk: 106\n",
      "New sensible chunk: 27702\n",
      "New sensible chunk: 502\n",
      "New sensible chunk: 325\n",
      "New sensible chunk: 34366\n",
      "New sensible chunk: 53098\n",
      "New sensible chunk: 7046\n",
      "New sensible chunk: 5810\n"
     ]
    }
   ],
   "source": [
    "print(\"------ PREPARING TEST DATA ------\")\n",
    "test = DataSet(DATASET)\n",
    "test.set_window(start=WINDOWS['test'][5][0], end=WINDOWS['test'][5][1])\n",
    "test_elec = test.buildings[5].elec\n",
    "test_mains = test_elec.mains()\n",
    "\n",
    "disag_filename = DISAG_FILE # The filename of the resulting datastore\n",
    "output = HDFDataStore(disag_filename, 'w')\n",
    "\n",
    "print(\"------ START DISAGGREGATION ------\")\n",
    "rnn.disaggregate(test_mains, output, train_meterlist[0], sample_period=SAMPLE_PERIOD)\n",
    "output.close()"
   ]
  },
  {
   "cell_type": "code",
   "execution_count": 6,
   "metadata": {},
   "outputs": [
    {
     "name": "stdout",
     "output_type": "stream",
     "text": [
      "------ PLOTTING PREDICTION AND GROUND TRUTH ------\n"
     ]
    },
    {
     "data": {
      "image/png": "[encoded data removed]",
      "text/plain": [
       "<Figure size 432x288 with 1 Axes>"
      ]
     },
     "metadata": {
      "needs_background": "light"
     },
     "output_type": "display_data"
    }
   ],
   "source": [
    "result = DataSet(disag_filename)\n",
    "res_elec = result.buildings[5].elec\n",
    "predicted = res_elec[APPLIANCE]\n",
    "ground_truth = test_elec[APPLIANCE]\n",
    "\n",
    "print(\"------ PLOTTING PREDICTION AND GROUND TRUTH ------\")\n",
    "predicted.power_series_all_data().plot()\n",
    "ground_truth.power_series_all_data().plot()\n",
    "# Change the limit to zoom-in or zoom-out the figure\n",
    "plt.xlim('2014-08-22 00:00:00', '2014-08-22 23:59:00')\n",
    "plt.show()"
   ]
  },
  {
   "cell_type": "code",
   "execution_count": 7,
   "metadata": {},
   "outputs": [
    {
     "name": "stderr",
     "output_type": "stream",
     "text": [
      "/home/caim03/anaconda2/envs/nilmtk-env/lib/python3.6/site-packages/nilmtk/datastore/hdfdatastore.py:128: UserWarning: Pandas doesn't allow columns to be created via a new attribute name - see https://pandas.pydata.org/pandas-docs/stable/indexing.html#attribute-access\n",
      "  stop=look_ahead_end_i)\n",
      "/home/caim03/anaconda2/envs/nilmtk-env/lib/python3.6/site-packages/pandas/core/internals.py:2633: DeprecationWarning: parsing timezone aware datetimes is deprecated; this will raise an error in the future\n",
      "  return self.values.astype('datetime64[ns]').values\n"
     ]
    },
    {
     "name": "stdout",
     "output_type": "stream",
     "text": [
      "============ Relative error in total energy: 0.5184870286918685\n",
      "============ Mean absolute error(in Watts): 49.26614867668397\n"
     ]
    }
   ],
   "source": [
    "print(\"============ Relative error in total energy: {}\".format(metrics.relative_error_total_energy(predicted, ground_truth)))\n",
    "print(\"============ Mean absolute error(in Watts): {}\".format(metrics.mean_absolute_error(predicted, ground_truth)))"
   ]
  }
 ],
 "metadata": {
  "kernelspec": {
   "display_name": "Python 3",
   "language": "python",
   "name": "python3"
  },
  "language_info": {
   "codemirror_mode": {
    "name": "ipython",
    "version": 3
   },
   "file_extension": ".py",
   "mimetype": "text/x-python",
   "name": "python",
   "nbconvert_exporter": "python",
   "pygments_lexer": "ipython3",
   "version": "3.6.6"
  }
 },
 "nbformat": 4,
 "nbformat_minor": 2
}
