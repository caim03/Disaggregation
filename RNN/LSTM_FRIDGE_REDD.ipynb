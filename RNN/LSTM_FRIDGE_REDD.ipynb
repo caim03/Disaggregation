{
 "cells": [
  {
   "cell_type": "code",
   "execution_count": 1,
   "metadata": {},
   "outputs": [
    {
     "name": "stdout",
     "output_type": "stream",
     "text": [
      "------ IMPORT LIBRARY ------\n"
     ]
    },
    {
     "name": "stderr",
     "output_type": "stream",
     "text": [
      "/Users/Caim03/Documents/Università/Tesi/Disaggregation/RNN/rnndisaggregator.py:110: SyntaxWarning: assertion is always true, perhaps remove parentheses?\n",
      "  assert(len(mainlist) == len(meterlist), \"Number of main and meter channels should be equal\")\n",
      "Using TensorFlow backend.\n",
      "/Users/Caim03/anaconda3/envs/nilmtk-env/lib/python3.6/site-packages/tensorflow/python/framework/ops.py:923: DeprecationWarning: builtin type EagerTensor has no __module__ attribute\n",
      "  EagerTensor = c_api.TFE_Py_InitEagerTensor(_EagerTensorBase)\n",
      "/Users/Caim03/anaconda3/envs/nilmtk-env/lib/python3.6/site-packages/tensorflow/python/util/tf_inspect.py:75: DeprecationWarning: inspect.getargspec() is deprecated, use inspect.signature() or inspect.getfullargspec()\n",
      "  return _inspect.getargspec(target)\n",
      "/Users/Caim03/anaconda3/envs/nilmtk-env/lib/python3.6/importlib/_bootstrap.py:219: RuntimeWarning: compiletime version 3.5 of module 'tensorflow.python.framework.fast_tensor_util' does not match runtime version 3.6\n",
      "  return f(*args, **kwds)\n",
      "/Users/Caim03/anaconda3/envs/nilmtk-env/lib/python3.6/site-packages/tensorflow/python/keras/backend.py:4785: ResourceWarning: unclosed file <_io.TextIOWrapper name='/Users/Caim03/.keras/keras.json' mode='r' encoding='UTF-8'>\n",
      "  _config = json.load(open(_config_path))\n"
     ]
    }
   ],
   "source": [
    "print(\"------ IMPORT LIBRARY ------\")\n",
    "\n",
    "import warnings\n",
    "warnings.filterwarnings('ignore')\n",
    "from nilmtk import DataSet\n",
    "from rnndisaggregator import RNNDisaggregator\n",
    "from nilmtk.datastore import HDFDataStore\n",
    "import matplotlib.pyplot as plt\n",
    "import metrics\n",
    "\n",
    "# skip if you already have .h5 dataset\n",
    "# from nilmtk.dataset_converters import convert_ukdale\n",
    "# convert_ukdale('./data/REDD/low_freq', './data/REDD/redd.h5') "
   ]
  },
  {
   "cell_type": "code",
   "execution_count": 8,
   "metadata": {},
   "outputs": [
    {
     "name": "stdout",
     "output_type": "stream",
     "text": [
      "------ SET GLOBAL VARIABLES ------\n"
     ]
    }
   ],
   "source": [
    "print(\"------ SET GLOBAL VARIABLES ------\")\n",
    "\n",
    "DATASET = \"../data/REDD/redd.h5\" # path of redd data\n",
    "MODEL = \"../data/REDD/fridge-model-redd.h5\" # path of model\n",
    "DISAG_FILE = \"../data/REDD/fridge-disag-out1.h5\" # path of disaggregation output\n",
    "APPLIANCE = 'fridge' # the network will be trained on this appliance\n",
    "SAMPLE_PERIOD = 1 # sample period\n",
    "\n",
    "WINDOWS = {\n",
    "    'train': {\n",
    "        1: (\"2011-04-18\", \"2011-05-24\"),\n",
    "        2: (\"2011-04-17 23:18:00\", \"2011-05-22 23:59:00\"),\n",
    "        3: (\"2011-04-16 05:11:00\", \"2011-05-31 00:19:00\"),\n",
    "        5: (\"2011-04-18 04:24:00\", \"2011-06-01 00:20:00\"),\n",
    "    },\n",
    "    'test': {\n",
    "        6: (\"2011-05-21 19:39\", \"2011-06-14 05:31\")\n",
    "    }\n",
    "}\n",
    "\n",
    "# True if the model must be trained\n",
    "TRAINING = True"
   ]
  },
  {
   "cell_type": "code",
   "execution_count": 3,
   "metadata": {},
   "outputs": [
    {
     "name": "stdout",
     "output_type": "stream",
     "text": [
      "------ PREPARING DATA ------\n"
     ]
    }
   ],
   "source": [
    "print(\"------ PREPARING DATA ------\")\n",
    "\n",
    "train_mainlist = []\n",
    "train_meterlist = []\n",
    "\n",
    "# for each building\n",
    "for key in WINDOWS['train'].keys():\n",
    "    train = DataSet(DATASET)\n",
    "    train.set_window(start=WINDOWS['train'][key][0], end=WINDOWS['train'][key][1])\n",
    "    train_elec = train.buildings[key].elec\n",
    "    \n",
    "    train_mainlist.append(train_elec.mains().all_meters()[0])\n",
    "    train_meterlist.append(train_elec.submeters()[APPLIANCE])"
   ]
  },
  {
   "cell_type": "code",
   "execution_count": 4,
   "metadata": {},
   "outputs": [
    {
     "name": "stdout",
     "output_type": "stream",
     "text": [
      "------ START TRAINING ------\n",
      "0\n",
      "Batch 0 of [96144, 93875, 120502, 117891]\r"
     ]
    },
    {
     "name": "stderr",
     "output_type": "stream",
     "text": [
      "/Users/Caim03/anaconda3/envs/nilmtk-env/lib/python3.6/site-packages/numpy/core/fromnumeric.py:52: FutureWarning: reshape is deprecated and will raise in a subsequent release. Please use .values.reshape(...) instead\n",
      "  return getattr(obj, method)(*args, **kwds)\n"
     ]
    },
    {
     "name": "stdout",
     "output_type": "stream",
     "text": [
      "Batch 93874 of [96144, 93875, 120502, 117891]\n",
      "\n",
      "1\n",
      "Batch 93874 of [96144, 93875, 120502, 117891]\n",
      "\n",
      "2\n",
      "Batch 93874 of [96144, 93875, 120502, 117891]\n",
      "\n",
      "3\n",
      "Batch 93874 of [96144, 93875, 120502, 117891]\n",
      "\n",
      "4\n",
      "Batch 93874 of [96144, 93875, 120502, 117891]\n",
      "\n"
     ]
    }
   ],
   "source": [
    "rnn = RNNDisaggregator()\n",
    "\n",
    "if TRAINING:\n",
    "    print(\"------ START TRAINING ------\")\n",
    "    rnn.train_across_buildings(train_mainlist, train_meterlist, epochs=5, sample_period=SAMPLE_PERIOD)\n",
    "    rnn.export_model(MODEL)\n",
    "else:\n",
    "    print(\"------ IMPORT MODEL ------\")\n",
    "    rnn.import_model(MODEL)"
   ]
  },
  {
   "cell_type": "code",
   "execution_count": 9,
   "metadata": {},
   "outputs": [
    {
     "name": "stdout",
     "output_type": "stream",
     "text": [
      "------ PREPARING TEST DATA ------\n",
      "------ START DISAGGREGATION ------\n"
     ]
    },
    {
     "name": "stderr",
     "output_type": "stream",
     "text": [
      "/Users/Caim03/anaconda3/envs/nilmtk-env/lib/python3.6/site-packages/nilmtk/metergroup.py:921: UserWarning: As a quick implementation we only get Good Sections from the first meter in the meter group.  We should really return the intersection of the good sections for all meters.  This will be fixed...\n",
      "  warn(\"As a quick implementation we only get Good Sections from\"\n",
      "/Users/Caim03/anaconda3/envs/nilmtk-env/lib/python3.6/site-packages/nilmtk/datastore/hdfdatastore.py:128: UserWarning: Pandas doesn't allow columns to be created via a new attribute name - see https://pandas.pydata.org/pandas-docs/stable/indexing.html#attribute-access\n",
      "  stop=look_ahead_end_i)\n"
     ]
    },
    {
     "name": "stdout",
     "output_type": "stream",
     "text": [
      "\r",
      "Loading data for meter ElecMeterID(instance=1, building=6, dataset='REDD')     "
     ]
    },
    {
     "name": "stderr",
     "output_type": "stream",
     "text": [
      "/Users/Caim03/anaconda3/envs/nilmtk-env/lib/python3.6/site-packages/pandas/core/internals.py:2633: DeprecationWarning: parsing timezone aware datetimes is deprecated; this will raise an error in the future\n",
      "  return self.values.astype('datetime64[ns]').values\n"
     ]
    },
    {
     "name": "stdout",
     "output_type": "stream",
     "text": [
      "Loading data for meter ElecMeterID(instance=2, building=6, dataset='REDD')     \n",
      "Done loading data all meters for this chunk.\n",
      "New sensible chunk: 27474\n",
      "Loading data for meter ElecMeterID(instance=2, building=6, dataset='REDD')     \n",
      "Done loading data all meters for this chunk.\n",
      "New sensible chunk: 69305\n",
      "Loading data for meter ElecMeterID(instance=2, building=6, dataset='REDD')     \n",
      "Done loading data all meters for this chunk.\n",
      "New sensible chunk: 38666\n",
      "Loading data for meter ElecMeterID(instance=2, building=6, dataset='REDD')     \n",
      "Done loading data all meters for this chunk.\n",
      "New sensible chunk: 100830\n",
      "Loading data for meter ElecMeterID(instance=2, building=6, dataset='REDD')     \n",
      "Done loading data all meters for this chunk.\n",
      "New sensible chunk: 23298\n",
      "Loading data for meter ElecMeterID(instance=2, building=6, dataset='REDD')     \n",
      "Done loading data all meters for this chunk.\n",
      "New sensible chunk: 532961\n",
      "Loading data for meter ElecMeterID(instance=2, building=6, dataset='REDD')     \n",
      "Done loading data all meters for this chunk.\n",
      "New sensible chunk: 45889\n",
      "Loading data for meter ElecMeterID(instance=2, building=6, dataset='REDD')     \n",
      "Done loading data all meters for this chunk.\n",
      "New sensible chunk: 1525\n",
      "Loading data for meter ElecMeterID(instance=2, building=6, dataset='REDD')     \n",
      "Done loading data all meters for this chunk.\n",
      "New sensible chunk: 73174\n",
      "Loading data for meter ElecMeterID(instance=2, building=6, dataset='REDD')     \n",
      "Done loading data all meters for this chunk.\n",
      "New sensible chunk: 152640\n",
      "Loading data for meter ElecMeterID(instance=2, building=6, dataset='REDD')     \n",
      "Done loading data all meters for this chunk.\n",
      "New sensible chunk: 115918\n",
      "Loading data for meter ElecMeterID(instance=2, building=6, dataset='REDD')     \n",
      "Done loading data all meters for this chunk.\n",
      "New sensible chunk: 68385\n",
      "Loading data for meter ElecMeterID(instance=2, building=6, dataset='REDD')     \n",
      "Done loading data all meters for this chunk.\n",
      "New sensible chunk: 212030\n",
      "Loading data for meter ElecMeterID(instance=2, building=6, dataset='REDD')     \n",
      "Done loading data all meters for this chunk.\n",
      "New sensible chunk: 1005\n",
      "Loading data for meter ElecMeterID(instance=2, building=6, dataset='REDD')     \n",
      "Done loading data all meters for this chunk.\n",
      "New sensible chunk: 103879\n",
      "Loading data for meter ElecMeterID(instance=2, building=6, dataset='REDD')     \n",
      "Done loading data all meters for this chunk.\n",
      "New sensible chunk: 15400\n"
     ]
    }
   ],
   "source": [
    "print(\"------ PREPARING TEST DATA ------\")\n",
    "test = DataSet(DATASET)\n",
    "test.set_window(start=WINDOWS['test'][6][0], end=WINDOWS['test'][6][1])\n",
    "test_elec = test.buildings[6].elec\n",
    "test_mains = test_elec.mains()\n",
    "\n",
    "disag_filename = DISAG_FILE # The filename of the resulting datastore\n",
    "output = HDFDataStore(disag_filename, 'w')\n",
    "\n",
    "print(\"------ START DISAGGREGATION ------\")\n",
    "rnn.disaggregate(test_mains, output, train_meterlist[0], sample_period=SAMPLE_PERIOD)\n",
    "output.close()"
   ]
  },
  {
   "cell_type": "code",
   "execution_count": 10,
   "metadata": {},
   "outputs": [
    {
     "name": "stdout",
     "output_type": "stream",
     "text": [
      "------ PLOTTING PREDICTION AND GROUND TRUTH ------\n"
     ]
    },
    {
     "data": {
      "image/png": "[encoded data removed]",
      "text/plain": [
       "<Figure size 432x288 with 1 Axes>"
      ]
     },
     "metadata": {},
     "output_type": "display_data"
    }
   ],
   "source": [
    "result = DataSet(disag_filename)\n",
    "res_elec = result.buildings[6].elec\n",
    "predicted = res_elec[APPLIANCE]\n",
    "ground_truth = test_elec[APPLIANCE]\n",
    "\n",
    "print(\"------ PLOTTING PREDICTION AND GROUND TRUTH ------\")\n",
    "predicted.power_series_all_data().plot()\n",
    "ground_truth.power_series_all_data().plot()\n",
    "# Change the limit to zoom-in or zoom-out the figure\n",
    "plt.xlim('2011-06-01 00:00:00', '2011-06-01 23:59:00')\n",
    "plt.show()"
   ]
  },
  {
   "cell_type": "code",
   "execution_count": 11,
   "metadata": {},
   "outputs": [
    {
     "name": "stderr",
     "output_type": "stream",
     "text": [
      "/Users/Caim03/anaconda3/envs/nilmtk-env/lib/python3.6/site-packages/nilmtk/datastore/hdfdatastore.py:128: UserWarning: Pandas doesn't allow columns to be created via a new attribute name - see https://pandas.pydata.org/pandas-docs/stable/indexing.html#attribute-access\n",
      "  stop=look_ahead_end_i)\n",
      "/Users/Caim03/anaconda3/envs/nilmtk-env/lib/python3.6/site-packages/pandas/core/internals.py:2633: DeprecationWarning: parsing timezone aware datetimes is deprecated; this will raise an error in the future\n",
      "  return self.values.astype('datetime64[ns]').values\n"
     ]
    },
    {
     "name": "stdout",
     "output_type": "stream",
     "text": [
      "============ Relative error in total energy: 0.7297552760794632\n",
      "============ Mean absolute error(in Watts): 80.9152033588593\n"
     ]
    }
   ],
   "source": [
    "print(\"============ Relative error in total energy: {}\".format(metrics.relative_error_total_energy(predicted, ground_truth)))\n",
    "print(\"============ Mean absolute error(in Watts): {}\".format(metrics.mean_absolute_error(predicted, ground_truth)))"
   ]
  }
 ],
 "metadata": {
  "kernelspec": {
   "display_name": "Python (nilmtk)",
   "language": "python",
   "name": "nilmtk-env"
  },
  "language_info": {
   "codemirror_mode": {
    "name": "ipython",
    "version": 3
   },
   "file_extension": ".py",
   "mimetype": "text/x-python",
   "name": "python",
   "nbconvert_exporter": "python",
   "pygments_lexer": "ipython3",
   "version": "3.6.6"
  }
 },
 "nbformat": 4,
 "nbformat_minor": 2
}
