{
 "cells": [
  {
   "cell_type": "code",
   "execution_count": null,
   "metadata": {},
   "outputs": [],
   "source": [
    "print(\"------ IMPORT LIBRARY ------\")\n",
    "\n",
    "import warnings\n",
    "warnings.filterwarnings('ignore')\n",
    "from nilmtk import DataSet\n",
    "from rnndisaggregator import RNNDisaggregator\n",
    "from nilmtk.datastore import HDFDataStore\n",
    "import matplotlib.pyplot as plt\n",
    "import metrics\n",
    "\n",
    "# skip if you already have .h5 dataset\n",
    "# from nilmtk.dataset_converters import convert_ukdale\n",
    "# convert_ukdale('./data/REDD/low_freq', './data/REDD/redd.h5') "
   ]
  },
  {
   "cell_type": "code",
   "execution_count": null,
   "metadata": {},
   "outputs": [],
   "source": [
    "print(\"------ SET GLOBAL VARIABLES ------\")\n",
    "\n",
    "DATASET = \"./data/REDD/redd.h5\" # path of redd data\n",
    "MODEL = \"./data/REDD/microwave-model-redd.h5\" # path of model\n",
    "DISAG_FILE = \"./data/REDD/microwave-disag-out.h5\" # path of disaggregation output\n",
    "APPLIANCE = 'microwave' # the network will be trained on this appliance\n",
    "SAMPLE_PERIOD = 1 # sample period\n",
    "\n",
    "WINDOWS = {\n",
    "    'train': {\n",
    "        1: (\"2011-04-18\", \"2011-05-24\"),\n",
    "        2: (\"2011-04-17 23:18:00\", \"2011-05-22 23:59:00\"),\n",
    "        3: (\"2011-04-16 05:11:00\", \"2011-05-31 00:19:00\"),\n",
    "        5: (\"2011-04-18 04:24:00\", \"2011-06-01 00:20:00\"),\n",
    "    },\n",
    "    'test': {\n",
    "        6: (\"2011-05-21 19:39\", \"2011-06-14 05:31\")\n",
    "    }\n",
    "}\n",
    "\n",
    "# True if the model must be trained\n",
    "TRAINING = True"
   ]
  },
  {
   "cell_type": "code",
   "execution_count": null,
   "metadata": {},
   "outputs": [],
   "source": [
    "print(\"------ PREPARING DATA ------\")\n",
    "\n",
    "train_mainlist = []\n",
    "train_meterlist = []\n",
    "\n",
    "# for each building\n",
    "for key in WINDOWS['train'].keys():\n",
    "    train = DataSet(DATASET)\n",
    "    train.set_window(start=WINDOWS['train'][key][0], end=WINDOWS['train'][key][1])\n",
    "    train_elec = train.buildings[key]\n",
    "    \n",
    "    train_mainlist.append(train_elec.mains()all_meters()[0])\n",
    "    train_meterlist.append(train_elec.submeters()[APPLIANCE])"
   ]
  },
  {
   "cell_type": "code",
   "execution_count": null,
   "metadata": {},
   "outputs": [],
   "source": [
    "rnn = RNNDisaggregator()\n",
    "\n",
    "if TRAINING:\n",
    "    print(\"------ START TRAINING ------\")\n",
    "    rnn.train_across_buildings(train_mainlist, train_meterlist, epochs=5, sample_period=SAMPLE_PERIOD)\n",
    "    rnn.export_model(MODEL)\n",
    "else:\n",
    "    print(\"------ IMPORT MODEL ------\")\n",
    "    rnn.import_model(MODEL)"
   ]
  },
  {
   "cell_type": "code",
   "execution_count": null,
   "metadata": {},
   "outputs": [],
   "source": [
    "print(\"------ PREPARING TEST DATA ------\")\n",
    "test = DataSet(DATASET)\n",
    "test.set_window(start=WINDOWS['test'][6][0], end=WINDOWS['test'][6][1])\n",
    "test_elec = test.buildings[6].elec\n",
    "test_mains = test_elec.mains()\n",
    "\n",
    "disag_filename = DISAG_FILE # The filename of the resulting datastore\n",
    "output = HDFDataStore(disag_filename, 'w')\n",
    "\n",
    "print(\"------ START DISAGGREGATION ------\")\n",
    "rnn.disaggregate(test_mains, output, train_meter[0], sample_period=SAMPLE_PERIOD)\n",
    "output.close()"
   ]
  },
  {
   "cell_type": "code",
   "execution_count": null,
   "metadata": {},
   "outputs": [],
   "source": [
    "result = DataSet(disag_filename)\n",
    "res_elec = result.buildings[6].elec\n",
    "predicted = res_elec[APPLIANCE]\n",
    "ground_truth = test_elec[APPLIANCE]\n",
    "\n",
    "print(\"------ PLOTTING PREDICTION AND GROUND TRUTH ------\")\n",
    "predicted.power_series_all_data().plot()\n",
    "ground_truth.power_series_all_data().plot()\n",
    "plt.show()"
   ]
  },
  {
   "cell_type": "code",
   "execution_count": null,
   "metadata": {},
   "outputs": [],
   "source": [
    "print(\"============ Relative error in total energy: {}\".format(metrics.relative_error_total_energy(predicted, ground_truth)))\n",
    "print(\"============ Mean absolute error(in Watts): {}\".format(metrics.mean_absolute_error(predicted, ground_truth)))"
   ]
  }
 ],
 "metadata": {
  "kernelspec": {
   "display_name": "Python (nilmtk)",
   "language": "python",
   "name": "nilmtk-env"
  },
  "language_info": {
   "codemirror_mode": {
    "name": "ipython",
    "version": 3
   },
   "file_extension": ".py",
   "mimetype": "text/x-python",
   "name": "python",
   "nbconvert_exporter": "python",
   "pygments_lexer": "ipython3",
   "version": "3.6.6"
  }
 },
 "nbformat": 4,
 "nbformat_minor": 2
}
